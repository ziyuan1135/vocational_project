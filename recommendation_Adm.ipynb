{
 "cells": [
  {
   "cell_type": "code",
   "execution_count": 1,
   "metadata": {},
   "outputs": [],
   "source": [
    "import pandas as pd\n",
    "import numpy as np\n",
    "import mysql.connector"
   ]
  },
  {
   "cell_type": "markdown",
   "metadata": {},
   "source": [
    "### 建立甄選Data到DB"
   ]
  },
  {
   "cell_type": "code",
   "execution_count": 2,
   "metadata": {},
   "outputs": [
    {
     "data": {
      "text/plain": [
       "0             01 機械群\n",
       "1           02 動力機械群\n",
       "2             01 機械群\n",
       "3       03 電機與電子群電機類\n",
       "4             05 化工群\n",
       "            ...     \n",
       "2743        02 動力機械群\n",
       "2744          14 農業群\n",
       "2745          17 餐旅群\n",
       "2746          07 設計群\n",
       "2747       20 藝術群影視類\n",
       "Name: 招生群（類）別, Length: 2748, dtype: object"
      ]
     },
     "execution_count": 2,
     "metadata": {},
     "output_type": "execute_result"
    }
   ],
   "source": [
    "dfRegular = pd.read_excel(\"./文件集/112四技二專甄選_一般組.xls\")\n",
    "dfRegular['招生群（類）別']"
   ]
  },
  {
   "cell_type": "code",
   "execution_count": 9,
   "metadata": {},
   "outputs": [
    {
     "data": {
      "text/plain": [
       "[('01', '機械群'),\n",
       " ('02', '動力機械群'),\n",
       " ('03', '電機與電子群電機類'),\n",
       " ('04', '電機與電子群資電類'),\n",
       " ('05', '化工群'),\n",
       " ('06', '土木與建築群'),\n",
       " ('07', '設計群'),\n",
       " ('08', '工程與管理類'),\n",
       " ('09', '商業與管理群'),\n",
       " ('10', '衛生與護理類'),\n",
       " ('11', '食品群'),\n",
       " ('12', '家政群幼保類'),\n",
       " ('13', '家政群生活應用類'),\n",
       " ('14', '農業群'),\n",
       " ('15', '外語群英語類'),\n",
       " ('16', '外語群日語類'),\n",
       " ('17', '餐旅群'),\n",
       " ('18', '海事群'),\n",
       " ('19', '水產群'),\n",
       " ('20', '藝術群影視類'),\n",
       " ('21', '資管類')]"
      ]
     },
     "execution_count": 9,
     "metadata": {},
     "output_type": "execute_result"
    }
   ],
   "source": [
    "recom_adm_data = []\n",
    "classes = np.sort(dfRegular['招生群（類）別'].unique())\n",
    "for group in classes:\n",
    "    recom_adm_data.append(tuple(group.split()))\n",
    "recom_adm_data"
   ]
  },
  {
   "cell_type": "code",
   "execution_count": 12,
   "metadata": {},
   "outputs": [],
   "source": [
    "conn = mysql.connector.connect(user='root', password='root', host='localhost', database='四技二專')\n",
    "cursor = conn.cursor()\n",
    "sql = \"insert into 甄選 values(%s, %s, null)\"\n",
    "cursor.executemany(sql, recom_adm_data)\n",
    "conn.commit()"
   ]
  },
  {
   "cell_type": "code",
   "execution_count": 13,
   "metadata": {},
   "outputs": [],
   "source": [
    "cursor.close()\n",
    "conn.close()"
   ]
  },
  {
   "cell_type": "code",
   "execution_count": null,
   "metadata": {},
   "outputs": [],
   "source": []
  }
 ],
 "metadata": {
  "kernelspec": {
   "display_name": "base",
   "language": "python",
   "name": "python3"
  },
  "language_info": {
   "codemirror_mode": {
    "name": "ipython",
    "version": 3
   },
   "file_extension": ".py",
   "mimetype": "text/x-python",
   "name": "python",
   "nbconvert_exporter": "python",
   "pygments_lexer": "ipython3",
   "version": "3.11.4"
  },
  "orig_nbformat": 4
 },
 "nbformat": 4,
 "nbformat_minor": 2
}
