{
 "cells": [
  {
   "cell_type": "code",
   "execution_count": 1,
   "metadata": {},
   "outputs": [],
   "source": [
    "import mysql.connector\n",
    "import pandas as pd"
   ]
  },
  {
   "cell_type": "code",
   "execution_count": 2,
   "metadata": {},
   "outputs": [
    {
     "data": {
      "text/html": [
       "<div>\n",
       "<style scoped>\n",
       "    .dataframe tbody tr th:only-of-type {\n",
       "        vertical-align: middle;\n",
       "    }\n",
       "\n",
       "    .dataframe tbody tr th {\n",
       "        vertical-align: top;\n",
       "    }\n",
       "\n",
       "    .dataframe thead th {\n",
       "        text-align: right;\n",
       "    }\n",
       "</style>\n",
       "<table border=\"1\" class=\"dataframe\">\n",
       "  <thead>\n",
       "    <tr style=\"text-align: right;\">\n",
       "      <th></th>\n",
       "      <th>地區</th>\n",
       "      <th>縣市</th>\n",
       "      <th>行政區名稱</th>\n",
       "      <th>區號</th>\n",
       "    </tr>\n",
       "  </thead>\n",
       "  <tbody>\n",
       "    <tr>\n",
       "      <th>0</th>\n",
       "      <td>北部</td>\n",
       "      <td>台北市</td>\n",
       "      <td>中正區</td>\n",
       "      <td>100</td>\n",
       "    </tr>\n",
       "    <tr>\n",
       "      <th>1</th>\n",
       "      <td>北部</td>\n",
       "      <td>台北市</td>\n",
       "      <td>大同區</td>\n",
       "      <td>103</td>\n",
       "    </tr>\n",
       "    <tr>\n",
       "      <th>2</th>\n",
       "      <td>北部</td>\n",
       "      <td>台北市</td>\n",
       "      <td>中山區</td>\n",
       "      <td>104</td>\n",
       "    </tr>\n",
       "    <tr>\n",
       "      <th>3</th>\n",
       "      <td>北部</td>\n",
       "      <td>台北市</td>\n",
       "      <td>松山區</td>\n",
       "      <td>105</td>\n",
       "    </tr>\n",
       "    <tr>\n",
       "      <th>4</th>\n",
       "      <td>北部</td>\n",
       "      <td>台北市</td>\n",
       "      <td>大安區</td>\n",
       "      <td>106</td>\n",
       "    </tr>\n",
       "    <tr>\n",
       "      <th>...</th>\n",
       "      <td>...</td>\n",
       "      <td>...</td>\n",
       "      <td>...</td>\n",
       "      <td>...</td>\n",
       "    </tr>\n",
       "    <tr>\n",
       "      <th>366</th>\n",
       "      <td>東部與其他</td>\n",
       "      <td>連江縣</td>\n",
       "      <td>莒光鄉</td>\n",
       "      <td>211</td>\n",
       "    </tr>\n",
       "    <tr>\n",
       "      <th>367</th>\n",
       "      <td>東部與其他</td>\n",
       "      <td>連江縣</td>\n",
       "      <td>東引鄉</td>\n",
       "      <td>212</td>\n",
       "    </tr>\n",
       "    <tr>\n",
       "      <th>368</th>\n",
       "      <td>東部與其他</td>\n",
       "      <td>南海諸島</td>\n",
       "      <td>東沙群島</td>\n",
       "      <td>817</td>\n",
       "    </tr>\n",
       "    <tr>\n",
       "      <th>369</th>\n",
       "      <td>東部與其他</td>\n",
       "      <td>南海諸島</td>\n",
       "      <td>南沙群島</td>\n",
       "      <td>819</td>\n",
       "    </tr>\n",
       "    <tr>\n",
       "      <th>370</th>\n",
       "      <td>東部與其他</td>\n",
       "      <td>南海諸島</td>\n",
       "      <td>釣魚台列嶼</td>\n",
       "      <td>290</td>\n",
       "    </tr>\n",
       "  </tbody>\n",
       "</table>\n",
       "<p>371 rows × 4 columns</p>\n",
       "</div>"
      ],
      "text/plain": [
       "        地區    縣市  行政區名稱   區號\n",
       "0       北部   台北市    中正區  100\n",
       "1       北部   台北市    大同區  103\n",
       "2       北部   台北市    中山區  104\n",
       "3       北部   台北市    松山區  105\n",
       "4       北部   台北市    大安區  106\n",
       "..     ...   ...    ...  ...\n",
       "366  東部與其他   連江縣    莒光鄉  211\n",
       "367  東部與其他   連江縣    東引鄉  212\n",
       "368  東部與其他  南海諸島   東沙群島  817\n",
       "369  東部與其他  南海諸島   南沙群島  819\n",
       "370  東部與其他  南海諸島  釣魚台列嶼  290\n",
       "\n",
       "[371 rows x 4 columns]"
      ]
     },
     "execution_count": 2,
     "metadata": {},
     "output_type": "execute_result"
    }
   ],
   "source": [
    "dfCitys = pd.read_excel(\"./文件集/台灣縣市統整.xlsx\")\n",
    "dfCitys"
   ]
  },
  {
   "cell_type": "code",
   "execution_count": 3,
   "metadata": {},
   "outputs": [],
   "source": [
    "dicTW = {}\n",
    "for area in dfCitys['地區'].unique():\n",
    "    dicTW[area] = {}\n",
    "    mask = dfCitys['地區'] == area\n",
    "    for city in dfCitys[mask]['縣市'].unique():\n",
    "        dicTW[area][city] = []\n",
    "        maskCity = dfCitys['縣市'] == city\n",
    "        for index in dfCitys[maskCity].index:\n",
    "            zone, zoneNum = dfCitys.loc[index]['行政區名稱'], dfCitys.loc[index]['區號']\n",
    "            dicTW[area][city].append([zone, zoneNum])"
   ]
  },
  {
   "cell_type": "code",
   "execution_count": 4,
   "metadata": {},
   "outputs": [
    {
     "data": {
      "text/plain": [
       "371"
      ]
     },
     "execution_count": 4,
     "metadata": {},
     "output_type": "execute_result"
    }
   ],
   "source": [
    "count = 0\n",
    "for area in dicTW.keys():\n",
    "    for city in dicTW[area].keys():\n",
    "        count += len(dicTW[area][city])\n",
    "count"
   ]
  },
  {
   "cell_type": "markdown",
   "metadata": {},
   "source": [
    "### 建地區database資料"
   ]
  },
  {
   "cell_type": "code",
   "execution_count": 12,
   "metadata": {},
   "outputs": [],
   "source": [
    "conn = mysql.connector.connect(user='developer1', password='password', host='localhost', database='四技二專')\n",
    "cursor = conn.cursor()\n",
    "values = []\n",
    "for area in dfCitys['地區'].unique():\n",
    "    values.append((None, area))\n",
    "sql = \"insert into 地區 values (%s, %s)\"\n",
    "cursor.executemany(sql, values)\n",
    "conn.commit()"
   ]
  },
  {
   "cell_type": "markdown",
   "metadata": {},
   "source": [
    "### 建縣市database資料"
   ]
  },
  {
   "cell_type": "code",
   "execution_count": 79,
   "metadata": {},
   "outputs": [],
   "source": [
    "conn = mysql.connector.connect(user='developer1', password='password', host='localhost', database='四技二專')\n",
    "cursor = conn.cursor()\n",
    "data = []\n",
    "for area in dicTW.keys():\n",
    "    sql = \"select 地區ID from 地區 where 地區類型=%s\"\n",
    "    cursor.execute(sql, (area, ))\n",
    "    areaID = cursor.fetchone()[0]\n",
    "    for city in dicTW[area].keys():\n",
    "        data.append((None, city, areaID))\n",
    "sql = \"insert into 縣市 values(%s, %s, %s)\"\n",
    "cursor.executemany(sql, data)\n",
    "conn.commit()"
   ]
  },
  {
   "cell_type": "markdown",
   "metadata": {},
   "source": [
    "### 建鄉鎮市區database資料"
   ]
  },
  {
   "cell_type": "code",
   "execution_count": 7,
   "metadata": {},
   "outputs": [],
   "source": [
    "conn = mysql.connector.connect(user='developer1', password='password', host='localhost', database='四技二專')\n",
    "cursor = conn.cursor()\n",
    "data = []\n",
    "for area in dicTW.keys():\n",
    "    for city in dicTW[area].keys():\n",
    "        sql = \"select 縣市ID from 縣市 where 縣市名稱=%s\"\n",
    "        cursor.execute(sql, (city,))\n",
    "        cityID = cursor.fetchone()[0]\n",
    "        for zone in dicTW[area][city]:\n",
    "            data.append((None, str(zone[1]), zone[0], cityID))\n",
    "sql = \"insert into 鄉鎮市區 values(%s, %s, %s, %s)\"\n",
    "cursor.executemany(sql, data)\n",
    "conn.commit()"
   ]
  },
  {
   "cell_type": "code",
   "execution_count": 8,
   "metadata": {},
   "outputs": [],
   "source": [
    "cursor.close()\n",
    "conn.close()"
   ]
  },
  {
   "cell_type": "code",
   "execution_count": null,
   "metadata": {},
   "outputs": [],
   "source": []
  }
 ],
 "metadata": {
  "kernelspec": {
   "display_name": "base",
   "language": "python",
   "name": "python3"
  },
  "language_info": {
   "codemirror_mode": {
    "name": "ipython",
    "version": 3
   },
   "file_extension": ".py",
   "mimetype": "text/x-python",
   "name": "python",
   "nbconvert_exporter": "python",
   "pygments_lexer": "ipython3",
   "version": "3.10.9"
  },
  "orig_nbformat": 4
 },
 "nbformat": 4,
 "nbformat_minor": 2
}
