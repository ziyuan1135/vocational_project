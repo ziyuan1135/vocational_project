{
 "cells": [
  {
   "cell_type": "code",
   "execution_count": 2,
   "metadata": {},
   "outputs": [],
   "source": [
    "import pandas as pd\n",
    "import numpy as np\n",
    "import requests\n",
    "from bs4 import BeautifulSoup\n",
    "import mysql.connector\n",
    "schoolTable = pd.DataFrame()\n",
    "# div class='sXLaOe'"
   ]
  },
  {
   "cell_type": "code",
   "execution_count": 8,
   "metadata": {},
   "outputs": [
    {
     "data": {
      "text/plain": [
       "123"
      ]
     },
     "execution_count": 8,
     "metadata": {},
     "output_type": "execute_result"
    }
   ],
   "source": [
    "df = pd.read_excel('./文件集/學校統整V2.xlsx')\n",
    "len(df['校名'].unique())"
   ]
  },
  {
   "cell_type": "markdown",
   "metadata": {},
   "source": [
    "### 學校網址_地區_縣市"
   ]
  },
  {
   "cell_type": "code",
   "execution_count": 11,
   "metadata": {},
   "outputs": [],
   "source": [
    "dfSchool = pd.read_excel(\"./文件集/大專院校代碼v2.xlsx\")\n",
    "dfSummary = pd.read_excel(\"./文件集/學校統整V3.xlsx\")"
   ]
  },
  {
   "cell_type": "code",
   "execution_count": 4,
   "metadata": {},
   "outputs": [],
   "source": [
    "cols = dfSchool.iloc[1].to_list()\n",
    "dfSchool.columns = cols\n",
    "dfSchool = dfSchool[2:len(dfSchool)].reset_index().drop(['index'], axis=1)\n",
    "dfSchool.set_index('學校名稱', inplace=True)"
   ]
  },
  {
   "cell_type": "code",
   "execution_count": 5,
   "metadata": {},
   "outputs": [],
   "source": [
    "dicSiteAndLocs = {}\n",
    "for key in dfSummary['校名'].unique():\n",
    "    try:\n",
    "        dicSiteAndLocs[key] = dfSchool.loc[key][['縣市別', '第三級行政區', '郵遞區號', '網址']].tolist()\n",
    "    except:\n",
    "        dicSiteAndLocs[key] = [0] * 4"
   ]
  },
  {
   "cell_type": "code",
   "execution_count": 113,
   "metadata": {},
   "outputs": [],
   "source": [
    "# key = '中華大學'\n",
    "# index = '中華大學學校財團法人中華大學'\n",
    "# dicSiteAndLocs[key] = dfSchool.loc[index][['縣市別', '第三級行政區', '郵遞區號', '網址']].tolist()"
   ]
  },
  {
   "cell_type": "code",
   "execution_count": 16,
   "metadata": {},
   "outputs": [],
   "source": [
    "newData = [[], [], [], []]\n",
    "newCols = ['縣市', '行政區', '郵政區號', '網址']\n",
    "for school in dfSummary['校名']:\n",
    "    data = dicSiteAndLocs[school]\n",
    "    for i in range(4):\n",
    "        newData[i].append(data[i])\n",
    "for i in range(4):\n",
    "     dfSummary[newCols[i]] = newData[i]"
   ]
  },
  {
   "cell_type": "code",
   "execution_count": 17,
   "metadata": {},
   "outputs": [],
   "source": [
    "dfSummary.to_excel(\"./文件集/學校統整V3.xlsx\", index=False)"
   ]
  },
  {
   "cell_type": "markdown",
   "metadata": {},
   "source": [
    "### 爬蟲尋找學校地址"
   ]
  },
  {
   "cell_type": "code",
   "execution_count": 3,
   "metadata": {},
   "outputs": [],
   "source": [
    "def findSchoolAndCampus(schooldf):\n",
    "    schoolNames = []\n",
    "    schoolNames.append(schooldf.iloc[0]['校名'])\n",
    "    for i in range(1, len(schooldf)):\n",
    "        schoolName = schooldf.iloc[i]['校名']\n",
    "        campus = schooldf.iloc[i]['校區']\n",
    "        if(campus != '0'):\n",
    "            schoolName += campus\n",
    "        if(len(schoolNames) > 0 and (schoolNames[len(schoolNames)-1] != schoolName)):\n",
    "            schoolNames.append(schoolName)\n",
    "    return schoolNames"
   ]
  },
  {
   "cell_type": "code",
   "execution_count": 4,
   "metadata": {},
   "outputs": [],
   "source": [
    "df = pd.read_excel('./文件集/學校統整.xlsx')\n",
    "schoolNames = findSchoolAndCampus(df)"
   ]
  },
  {
   "cell_type": "code",
   "execution_count": 6,
   "metadata": {},
   "outputs": [],
   "source": [
    "addr = []\n",
    "for schoolName in schoolNames:\n",
    "    response = requests.get(\"https://www.google.com/search?q=\" + schoolName + \"地址\")\n",
    "    soup = BeautifulSoup(response.text, \"html.parser\")\n",
    "    # print(soup.prettify())\n",
    "    select = soup.find_all(\"div\",\"BNeawe iBp4i AP7Wnd\")\n",
    "    if(len(select) > 0):\n",
    "        addr.append(select[0].text)\n",
    "    else:\n",
    "        addr.append(\"0\")\n",
    "dicAddr = {schoolNames[i] : addr[i] for i in range(len(schoolNames))}"
   ]
  },
  {
   "cell_type": "code",
   "execution_count": 14,
   "metadata": {},
   "outputs": [],
   "source": [
    "addresses = []\n",
    "for i in range(len(df)):\n",
    "    schoolName = df.iloc[i]['校名']\n",
    "    campus = df.iloc[i]['校區']\n",
    "    if(campus != \"0\"):\n",
    "        schoolName += campus\n",
    "    addresses.append(dicAddr[schoolName])"
   ]
  },
  {
   "cell_type": "code",
   "execution_count": 17,
   "metadata": {},
   "outputs": [],
   "source": [
    "df['地址'] = addresses\n",
    "df.to_excel(\"./文件集/學校統整.xlsx\", index=False)"
   ]
  },
  {
   "cell_type": "markdown",
   "metadata": {},
   "source": [
    "### 彙整校區"
   ]
  },
  {
   "cell_type": "code",
   "execution_count": 6,
   "metadata": {},
   "outputs": [],
   "source": [
    "def findCampus(pdSeries):\n",
    "    campusArr = []\n",
    "    for i in range(len(pdSeries)):\n",
    "        campus = ''\n",
    "        for j in range(len(pdSeries.iloc[i])):\n",
    "            if(pdSeries.iloc[i][j] == \"(\" or pdSeries.iloc[i][j] == \"（\"):\n",
    "                for k in range(j+1, len(pdSeries.iloc[i])):\n",
    "                    if(pdSeries.iloc[i][k] == \")\" or pdSeries.iloc[i][k] == \"）\"):\n",
    "                        break\n",
    "                    campus += pdSeries.iloc[i][k]\n",
    "                break\n",
    "        campusArr.append(campus)\n",
    "    return pd.DataFrame(data=campusArr, index=pdSeries.index, columns=['校區'])"
   ]
  },
  {
   "cell_type": "code",
   "execution_count": 7,
   "metadata": {},
   "outputs": [],
   "source": [
    "df = pd.read_excel(\"./文件集/學校統整.xlsx\")"
   ]
  },
  {
   "cell_type": "code",
   "execution_count": 18,
   "metadata": {},
   "outputs": [],
   "source": [
    "mask = df['科系名稱'].str.find(\"校區\") > -1\n",
    "campusDataframe = findCampus(df[mask]['科系名稱'])\n",
    "schooldf = pd.concat([df, campusDataframe], axis=1)\n",
    "schooldf.fillna('0', inplace=True)"
   ]
  },
  {
   "cell_type": "code",
   "execution_count": null,
   "metadata": {},
   "outputs": [],
   "source": [
    "schooldf.to_excel(\"./文件集/學校統整.xlsx\", index=False)"
   ]
  },
  {
   "cell_type": "markdown",
   "metadata": {},
   "source": [
    "### 彙整學校資訊"
   ]
  },
  {
   "cell_type": "code",
   "execution_count": 36,
   "metadata": {},
   "outputs": [
    {
     "data": {
      "text/html": [
       "<div>\n",
       "<style scoped>\n",
       "    .dataframe tbody tr th:only-of-type {\n",
       "        vertical-align: middle;\n",
       "    }\n",
       "\n",
       "    .dataframe tbody tr th {\n",
       "        vertical-align: top;\n",
       "    }\n",
       "\n",
       "    .dataframe thead th {\n",
       "        text-align: right;\n",
       "    }\n",
       "</style>\n",
       "<table border=\"1\" class=\"dataframe\">\n",
       "  <thead>\n",
       "    <tr style=\"text-align: right;\">\n",
       "      <th></th>\n",
       "      <th>學校ID</th>\n",
       "      <th>校名</th>\n",
       "      <th>科系名稱</th>\n",
       "    </tr>\n",
       "  </thead>\n",
       "  <tbody>\n",
       "    <tr>\n",
       "      <th>0</th>\n",
       "      <td>101</td>\n",
       "      <td>國立臺灣科技大學</td>\n",
       "      <td>機電技優專班</td>\n",
       "    </tr>\n",
       "    <tr>\n",
       "      <th>1</th>\n",
       "      <td>101</td>\n",
       "      <td>國立臺灣科技大學</td>\n",
       "      <td>機電技優專班</td>\n",
       "    </tr>\n",
       "    <tr>\n",
       "      <th>2</th>\n",
       "      <td>101</td>\n",
       "      <td>國立臺灣科技大學</td>\n",
       "      <td>機電技優專班</td>\n",
       "    </tr>\n",
       "    <tr>\n",
       "      <th>3</th>\n",
       "      <td>102</td>\n",
       "      <td>國立雲林科技大學</td>\n",
       "      <td>跨域整合設計學士學位學程（設計技優專班）</td>\n",
       "    </tr>\n",
       "    <tr>\n",
       "      <th>4</th>\n",
       "      <td>102</td>\n",
       "      <td>國立雲林科技大學</td>\n",
       "      <td>智慧機器人學士學位學程（機器人技優專班）</td>\n",
       "    </tr>\n",
       "    <tr>\n",
       "      <th>...</th>\n",
       "      <td>...</td>\n",
       "      <td>...</td>\n",
       "      <td>...</td>\n",
       "    </tr>\n",
       "    <tr>\n",
       "      <th>147</th>\n",
       "      <td>712</td>\n",
       "      <td>國立高雄師範大學</td>\n",
       "      <td>工業科技教育學系能源與冷凍空調組</td>\n",
       "    </tr>\n",
       "    <tr>\n",
       "      <th>148</th>\n",
       "      <td>719</td>\n",
       "      <td>國立暨南國際大學</td>\n",
       "      <td>國際企業學系</td>\n",
       "    </tr>\n",
       "    <tr>\n",
       "      <th>149</th>\n",
       "      <td>802</td>\n",
       "      <td>輔仁大學</td>\n",
       "      <td>織品服裝學系服飾設計組</td>\n",
       "    </tr>\n",
       "    <tr>\n",
       "      <th>150</th>\n",
       "      <td>804</td>\n",
       "      <td>中原大學</td>\n",
       "      <td>電機工程學系</td>\n",
       "    </tr>\n",
       "    <tr>\n",
       "      <th>151</th>\n",
       "      <td>817</td>\n",
       "      <td>實踐大學</td>\n",
       "      <td>服裝設計學系（臺北校區）</td>\n",
       "    </tr>\n",
       "  </tbody>\n",
       "</table>\n",
       "<p>152 rows × 3 columns</p>\n",
       "</div>"
      ],
      "text/plain": [
       "     學校ID        校名                  科系名稱\n",
       "0     101  國立臺灣科技大學                機電技優專班\n",
       "1     101  國立臺灣科技大學                機電技優專班\n",
       "2     101  國立臺灣科技大學                機電技優專班\n",
       "3     102  國立雲林科技大學  跨域整合設計學士學位學程（設計技優專班）\n",
       "4     102  國立雲林科技大學  智慧機器人學士學位學程（機器人技優專班）\n",
       "..    ...       ...                   ...\n",
       "147   712  國立高雄師範大學      工業科技教育學系能源與冷凍空調組\n",
       "148   719  國立暨南國際大學                國際企業學系\n",
       "149   802      輔仁大學           織品服裝學系服飾設計組\n",
       "150   804      中原大學                電機工程學系\n",
       "151   817      實踐大學          服裝設計學系（臺北校區）\n",
       "\n",
       "[152 rows x 3 columns]"
      ]
     },
     "execution_count": 36,
     "metadata": {},
     "output_type": "execute_result"
    }
   ],
   "source": [
    "df = pd.read_excel(\"./文件集/112技優保送.xls\")\n",
    "dfTemp = df[['學校代碼' ,'學校名稱', '系科組學程名稱']]\n",
    "dfTemp.columns = ['學校ID', '校名', '科系名稱']\n",
    "dfTemp"
   ]
  },
  {
   "cell_type": "code",
   "execution_count": 37,
   "metadata": {},
   "outputs": [
    {
     "data": {
      "text/html": [
       "<div>\n",
       "<style scoped>\n",
       "    .dataframe tbody tr th:only-of-type {\n",
       "        vertical-align: middle;\n",
       "    }\n",
       "\n",
       "    .dataframe tbody tr th {\n",
       "        vertical-align: top;\n",
       "    }\n",
       "\n",
       "    .dataframe thead th {\n",
       "        text-align: right;\n",
       "    }\n",
       "</style>\n",
       "<table border=\"1\" class=\"dataframe\">\n",
       "  <thead>\n",
       "    <tr style=\"text-align: right;\">\n",
       "      <th></th>\n",
       "      <th>學校ID</th>\n",
       "      <th>校名</th>\n",
       "      <th>科系名稱</th>\n",
       "    </tr>\n",
       "  </thead>\n",
       "  <tbody>\n",
       "    <tr>\n",
       "      <th>0</th>\n",
       "      <td>101</td>\n",
       "      <td>國立臺灣科技大學</td>\n",
       "      <td>機械工程系</td>\n",
       "    </tr>\n",
       "    <tr>\n",
       "      <th>1</th>\n",
       "      <td>101</td>\n",
       "      <td>國立臺灣科技大學</td>\n",
       "      <td>機械工程系</td>\n",
       "    </tr>\n",
       "    <tr>\n",
       "      <th>2</th>\n",
       "      <td>101</td>\n",
       "      <td>國立臺灣科技大學</td>\n",
       "      <td>材料科學與工程系</td>\n",
       "    </tr>\n",
       "    <tr>\n",
       "      <th>3</th>\n",
       "      <td>101</td>\n",
       "      <td>國立臺灣科技大學</td>\n",
       "      <td>材料科學與工程系</td>\n",
       "    </tr>\n",
       "    <tr>\n",
       "      <th>4</th>\n",
       "      <td>101</td>\n",
       "      <td>國立臺灣科技大學</td>\n",
       "      <td>材料科學與工程系</td>\n",
       "    </tr>\n",
       "    <tr>\n",
       "      <th>...</th>\n",
       "      <td>...</td>\n",
       "      <td>...</td>\n",
       "      <td>...</td>\n",
       "    </tr>\n",
       "    <tr>\n",
       "      <th>4842</th>\n",
       "      <td>712</td>\n",
       "      <td>國立高雄師範大學</td>\n",
       "      <td>工業科技教育學系能源與冷凍空調組</td>\n",
       "    </tr>\n",
       "    <tr>\n",
       "      <th>4843</th>\n",
       "      <td>719</td>\n",
       "      <td>國立暨南國際大學</td>\n",
       "      <td>國際企業學系</td>\n",
       "    </tr>\n",
       "    <tr>\n",
       "      <th>4844</th>\n",
       "      <td>802</td>\n",
       "      <td>輔仁大學</td>\n",
       "      <td>織品服裝學系服飾設計組</td>\n",
       "    </tr>\n",
       "    <tr>\n",
       "      <th>4845</th>\n",
       "      <td>804</td>\n",
       "      <td>中原大學</td>\n",
       "      <td>電機工程學系</td>\n",
       "    </tr>\n",
       "    <tr>\n",
       "      <th>4846</th>\n",
       "      <td>817</td>\n",
       "      <td>實踐大學</td>\n",
       "      <td>服裝設計學系（臺北校區）</td>\n",
       "    </tr>\n",
       "  </tbody>\n",
       "</table>\n",
       "<p>4847 rows × 3 columns</p>\n",
       "</div>"
      ],
      "text/plain": [
       "      學校ID        校名              科系名稱\n",
       "0      101  國立臺灣科技大學             機械工程系\n",
       "1      101  國立臺灣科技大學             機械工程系\n",
       "2      101  國立臺灣科技大學          材料科學與工程系\n",
       "3      101  國立臺灣科技大學          材料科學與工程系\n",
       "4      101  國立臺灣科技大學          材料科學與工程系\n",
       "...    ...       ...               ...\n",
       "4842   712  國立高雄師範大學  工業科技教育學系能源與冷凍空調組\n",
       "4843   719  國立暨南國際大學            國際企業學系\n",
       "4844   802      輔仁大學       織品服裝學系服飾設計組\n",
       "4845   804      中原大學            電機工程學系\n",
       "4846   817      實踐大學      服裝設計學系（臺北校區）\n",
       "\n",
       "[4847 rows x 3 columns]"
      ]
     },
     "execution_count": 37,
     "metadata": {},
     "output_type": "execute_result"
    }
   ],
   "source": [
    "schoolTable = pd.concat([schoolTable, dfTemp], ignore_index=True)\n",
    "schoolTable"
   ]
  },
  {
   "cell_type": "code",
   "execution_count": 40,
   "metadata": {},
   "outputs": [],
   "source": [
    "schoolTable.to_excel(\"./文件集/學校統整.xlsx\", index=False)"
   ]
  },
  {
   "cell_type": "code",
   "execution_count": null,
   "metadata": {},
   "outputs": [],
   "source": [
    "mask = df['系名'].str.find(\"校區\") > -1\n",
    "df[mask][['校名', '系名']]"
   ]
  },
  {
   "cell_type": "markdown",
   "metadata": {},
   "source": [
    "### mysql連線"
   ]
  },
  {
   "cell_type": "code",
   "execution_count": null,
   "metadata": {},
   "outputs": [],
   "source": [
    "conn = mysql.connector.connect(user='project_tester', password='password', host='localhost', database='final_project')\n",
    "cursor = conn.cursor()\n",
    "cursor.execute(\"show tables;\")\n",
    "for row in cursor:\n",
    "    print(row)"
   ]
  }
 ],
 "metadata": {
  "kernelspec": {
   "display_name": "base",
   "language": "python",
   "name": "python3"
  },
  "language_info": {
   "codemirror_mode": {
    "name": "ipython",
    "version": 3
   },
   "file_extension": ".py",
   "mimetype": "text/x-python",
   "name": "python",
   "nbconvert_exporter": "python",
   "pygments_lexer": "ipython3",
   "version": "3.10.9"
  },
  "orig_nbformat": 4
 },
 "nbformat": 4,
 "nbformat_minor": 2
}
