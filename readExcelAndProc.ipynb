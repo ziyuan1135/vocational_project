{
 "cells": [
  {
   "cell_type": "code",
   "execution_count": 1,
   "metadata": {},
   "outputs": [],
   "source": [
    "import pandas as pd\n",
    "import mysql.connector\n",
    "maxNum = 0"
   ]
  },
  {
   "cell_type": "code",
   "execution_count": 2,
   "metadata": {},
   "outputs": [],
   "source": [
    "df = pd.read_excel(\"112技優甄選.xls\")"
   ]
  },
  {
   "cell_type": "code",
   "execution_count": 3,
   "metadata": {},
   "outputs": [
    {
     "name": "stdout",
     "output_type": "stream",
     "text": [
      "嘉藥學校財團法人嘉南藥理大學\n",
      "14\n"
     ]
    }
   ],
   "source": [
    "school = max(df['學校名稱'].unique(), key=len)\n",
    "print(school)\n",
    "temp = len(school)\n",
    "if(temp > maxNum):\n",
    "    maxNum = temp\n",
    "print(maxNum)"
   ]
  },
  {
   "cell_type": "code",
   "execution_count": 6,
   "metadata": {},
   "outputs": [
    {
     "name": "stdout",
     "output_type": "stream",
     "text": [
      "('friends',)\n",
      "('members',)\n",
      "('messages',)\n",
      "('profiles',)\n"
     ]
    }
   ],
   "source": [
    "conn = mysql.connector.connect(user='project_tester', password='password', host='localhost', database='final_project')\n",
    "cursor = conn.cursor()\n",
    "cursor.execute(\"show tables;\")\n",
    "for row in cursor:\n",
    "    print(row)"
   ]
  },
  {
   "cell_type": "code",
   "execution_count": null,
   "metadata": {},
   "outputs": [],
   "source": [
    "mask = df['系名'].str.find(\"校區\") > -1\n",
    "df[mask][['校名', '系名']]"
   ]
  }
 ],
 "metadata": {
  "kernelspec": {
   "display_name": "base",
   "language": "python",
   "name": "python3"
  },
  "language_info": {
   "codemirror_mode": {
    "name": "ipython",
    "version": 3
   },
   "file_extension": ".py",
   "mimetype": "text/x-python",
   "name": "python",
   "nbconvert_exporter": "python",
   "pygments_lexer": "ipython3",
   "version": "3.10.9"
  },
  "orig_nbformat": 4
 },
 "nbformat": 4,
 "nbformat_minor": 2
}
