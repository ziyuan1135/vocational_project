{
 "cells": [
  {
   "cell_type": "code",
   "execution_count": 9,
   "metadata": {},
   "outputs": [],
   "source": [
    "import requests\n",
    "from bs4 import BeautifulSoup"
   ]
  },
  {
   "cell_type": "code",
   "execution_count": 13,
   "metadata": {},
   "outputs": [
    {
     "data": {
      "text/plain": [
       "<Response [429]>"
      ]
     },
     "execution_count": 13,
     "metadata": {},
     "output_type": "execute_result"
    }
   ],
   "source": [
    "response = requests.get(\"https://www.google.com/search?q=國立台灣科技大學地址\")\n",
    "response"
   ]
  },
  {
   "cell_type": "code",
   "execution_count": 12,
   "metadata": {},
   "outputs": [
    {
     "name": "stdout",
     "output_type": "stream",
     "text": [
      "<!DOCTYPE html PUBLIC \"-//W3C//DTD HTML 4.01 Transitional//EN\">\n",
      "<html>\n",
      " <head>\n",
      "  <meta content=\"text/html; charset=utf-8\" http-equiv=\"content-type\"/>\n",
      "  <meta content=\"initial-scale=1\" name=\"viewport\"/>\n",
      "  <title>\n",
      "   https://www.google.com/search?q=%E5%9C%8B%E7%AB%8B%E5%8F%B0%E7%81%A3%E7%A7%91%E6%8A%80%E5%A4%A7%E5%AD%B8%E5%9C%B0%E5%9D%80\n",
      "  </title>\n",
      " </head>\n",
      " <body onload=\"e=document.getElementById('captcha');if(e){e.focus();} if(solveSimpleChallenge) {solveSimpleChallenge(,);}\" style=\"font-family: arial, sans-serif; background-color: #fff; color: #000; padding:20px; font-size:18px; overscroll-behavior:contain;\">\n",
      "  <div style=\"max-width:400px;\">\n",
      "   <hr noshade=\"\" size=\"1\" style=\"color:#ccc; background-color:#ccc;\"/>\n",
      "   <br/>\n",
      "   <form action=\"index\" id=\"captcha-form\" method=\"post\">\n",
      "    <noscript>\n",
      "     <div style=\"font-size:13px;\">\n",
      "      In order to continue, please enable javascript on your web browser.\n",
      "     </div>\n",
      "    </noscript>\n",
      "    <script async=\"\" defer=\"\" src=\"https://www.google.com/recaptcha/api.js\">\n",
      "    </script>\n",
      "    <script>\n",
      "     var submitCallback = function(response) {document.getElementById('captcha-form').submit();};\n",
      "    </script>\n",
      "    <div class=\"g-recaptcha\" data-callback=\"submitCallback\" data-s=\"oVlx5mA8IXZyTuplbExhYr-HnDgQK_d9VbVjOivSLnZ2i4Xal3a8D2eyhsNamG738DZRTlASebJ_szWyzBMkXnYNsQFnzY0SJZeHUW_4R6XkXoAOkMlxEFtjBMa08bDfK8vXQvebC68hChp02QWmVFveEiVhO9TCVMvsnotZQdiTrafdd3vEEl5Ji_yxyM8kJPBJLnMD_9PFNf9GhF1RvGZDK63G1sY8oIDE5KF6SYVkZk3PRN9fsJ_uUBOrNYZOVSIt_fho_GMpgAWIHuXr-s9N5uF-5OA\" data-sitekey=\"6LfwuyUTAAAAAOAmoS0fdqijC2PbbdH4kjq62Y1b\" id=\"recaptcha\">\n",
      "    </div>\n",
      "    <input name=\"q\" type=\"hidden\" value=\"EgSMdpsuGIHi46YGIjAU6hdGUya2lfBayXRye_cCEfIA4OCZVZJpm5W8cyJwv1O2O3NAgJllqUwe_IUKdNkyAXJaAUM\"/>\n",
      "    <input name=\"continue\" type=\"hidden\" value=\"https://www.google.com/search?q=%E5%9C%8B%E7%AB%8B%E5%8F%B0%E7%81%A3%E7%A7%91%E6%8A%80%E5%A4%A7%E5%AD%B8%E5%9C%B0%E5%9D%80\"/>\n",
      "   </form>\n",
      "   <hr noshade=\"\" size=\"1\" style=\"color:#ccc; background-color:#ccc;\"/>\n",
      "   <div style=\"font-size:13px;\">\n",
      "    <b>\n",
      "     About this page\n",
      "    </b>\n",
      "    <br/>\n",
      "    <br/>\n",
      "    Our systems have detected unusual traffic from your computer network.  This page checks to see if it's really you sending the requests, and not a robot.\n",
      "    <a href=\"#\" onclick=\"document.getElementById('infoDiv').style.display='block';\">\n",
      "     Why did this happen?\n",
      "    </a>\n",
      "    <br/>\n",
      "    <br/>\n",
      "    <div id=\"infoDiv\" style=\"display:none; background-color:#eee; padding:10px; margin:0 0 15px 0; line-height:1.4em;\">\n",
      "     This page appears when Google automatically detects requests coming from your computer network which appear to be in violation of the\n",
      "     <a href=\"//www.google.com/policies/terms/\">\n",
      "      Terms of Service\n",
      "     </a>\n",
      "     . The block will expire shortly after those requests stop.  In the meantime, solving the above CAPTCHA will let you continue to use our services.\n",
      "     <br/>\n",
      "     <br/>\n",
      "     This traffic may have been sent by malicious software, a browser plug-in, or a script that sends automated requests.  If you share your network connection, ask your administrator for help — a different computer using the same IP address may be responsible.\n",
      "     <a href=\"//support.google.com/websearch/answer/86640\">\n",
      "      Learn more\n",
      "     </a>\n",
      "     <br/>\n",
      "     <br/>\n",
      "     Sometimes you may be asked to solve the CAPTCHA if you are using advanced terms that robots are known to use, or sending requests very quickly.\n",
      "    </div>\n",
      "    IP address: 140.118.155.46\n",
      "    <br/>\n",
      "    Time: 2023-08-13T15:04:33Z\n",
      "    <br/>\n",
      "    URL: https://www.google.com/search?q=%E5%9C%8B%E7%AB%8B%E5%8F%B0%E7%81%A3%E7%A7%91%E6%8A%80%E5%A4%A7%E5%AD%B8%E5%9C%B0%E5%9D%80\n",
      "    <br/>\n",
      "   </div>\n",
      "  </div>\n",
      " </body>\n",
      "</html>\n",
      "\n"
     ]
    }
   ],
   "source": [
    "soup = BeautifulSoup(response.text, \"html.parser\")\n",
    "print(soup.prettify())"
   ]
  },
  {
   "cell_type": "code",
   "execution_count": 4,
   "metadata": {},
   "outputs": [
    {
     "name": "stdout",
     "output_type": "stream",
     "text": [
      "[]\n"
     ]
    }
   ],
   "source": [
    "select = soup.find_all(\"div\",\"BNeawe iBp4i AP7Wnd\")\n",
    "print(select)\n",
    "\"BNeawe tAd8D AP7Wnd\""
   ]
  },
  {
   "cell_type": "code",
   "execution_count": 5,
   "metadata": {},
   "outputs": [],
   "source": [
    "for s in select:\n",
    "    print(s.text)"
   ]
  },
  {
   "cell_type": "code",
   "execution_count": null,
   "metadata": {},
   "outputs": [],
   "source": []
  }
 ],
 "metadata": {
  "kernelspec": {
   "display_name": "base",
   "language": "python",
   "name": "python3"
  },
  "language_info": {
   "codemirror_mode": {
    "name": "ipython",
    "version": 3
   },
   "file_extension": ".py",
   "mimetype": "text/x-python",
   "name": "python",
   "nbconvert_exporter": "python",
   "pygments_lexer": "ipython3",
   "version": "3.10.9"
  },
  "orig_nbformat": 4
 },
 "nbformat": 4,
 "nbformat_minor": 2
}
